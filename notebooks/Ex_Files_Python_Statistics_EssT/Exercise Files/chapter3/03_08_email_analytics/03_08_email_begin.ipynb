{
 "cells": [
  {
   "cell_type": "markdown",
   "metadata": {},
   "source": [
    "## Python statistics essential training - 03_08_email\n"
   ]
  },
  {
   "cell_type": "markdown",
   "metadata": {},
   "source": [
    "Standard imports\n"
   ]
  },
  {
   "cell_type": "code",
   "execution_count": 1,
   "metadata": {},
   "outputs": [],
   "source": [
    "import numpy as np\n",
    "import scipy.stats\n",
    "import pandas as pd"
   ]
  },
  {
   "cell_type": "code",
   "execution_count": 2,
   "metadata": {},
   "outputs": [],
   "source": [
    "import matplotlib\n",
    "import matplotlib.pyplot as pp\n",
    "\n",
    "import pandas.plotting\n",
    "\n",
    "from IPython import display\n",
    "from ipywidgets import interact, widgets\n",
    "\n",
    "%matplotlib inline"
   ]
  },
  {
   "cell_type": "code",
   "execution_count": 5,
   "metadata": {},
   "outputs": [],
   "source": [
    "import re\n",
    "import mailbox\n",
    "import csv"
   ]
  },
  {
   "cell_type": "markdown",
   "metadata": {},
   "source": [
    "### How I converted my mailbox.\n"
   ]
  },
  {
   "cell_type": "code",
   "execution_count": 6,
   "metadata": {},
   "outputs": [],
   "source": [
    "mbox = mailbox.mbox(\"Sent.mbox\")"
   ]
  },
  {
   "cell_type": "markdown",
   "metadata": {},
   "source": [
    "The resulting object is array-like, with one entry per message. Each entry is dictionary like, with keys corresponding to metadata and data for each message.\n"
   ]
  },
  {
   "cell_type": "code",
   "execution_count": 8,
   "metadata": {},
   "outputs": [
    {
     "ename": "KeyError",
     "evalue": "'No message with key: 0'",
     "output_type": "error",
     "traceback": [
      "\u001b[1;31m---------------------------------------------------------------------------\u001b[0m",
      "\u001b[1;31mKeyError\u001b[0m                                  Traceback (most recent call last)",
      "\u001b[1;32mc:\\Users\\georg\\OneDrive\\Documentos\\VSCode\\100DaysPython\\100dayspython\\notebooks\\Ex_Files_Python_Statistics_EssT\\Exercise Files\\chapter3\\03_08_email_analytics\\03_08_email_begin.ipynb Cell 9\u001b[0m line \u001b[0;36m1\n\u001b[1;32m----> <a href='vscode-notebook-cell:/c%3A/Users/georg/OneDrive/Documentos/VSCode/100DaysPython/100dayspython/notebooks/Ex_Files_Python_Statistics_EssT/Exercise%20Files/chapter3/03_08_email_analytics/03_08_email_begin.ipynb#X11sZmlsZQ%3D%3D?line=0'>1</a>\u001b[0m mbox[\u001b[39m0\u001b[39;49m]\u001b[39m.\u001b[39mkeys()\n",
      "File \u001b[1;32mc:\\Users\\georg\\AppData\\Local\\Programs\\Python\\Python311\\Lib\\mailbox.py:74\u001b[0m, in \u001b[0;36mMailbox.__getitem__\u001b[1;34m(self, key)\u001b[0m\n\u001b[0;32m     72\u001b[0m \u001b[39m\u001b[39m\u001b[39m\"\"\"Return the keyed message; raise KeyError if it doesn't exist.\"\"\"\u001b[39;00m\n\u001b[0;32m     73\u001b[0m \u001b[39mif\u001b[39;00m \u001b[39mnot\u001b[39;00m \u001b[39mself\u001b[39m\u001b[39m.\u001b[39m_factory:\n\u001b[1;32m---> 74\u001b[0m     \u001b[39mreturn\u001b[39;00m \u001b[39mself\u001b[39;49m\u001b[39m.\u001b[39;49mget_message(key)\n\u001b[0;32m     75\u001b[0m \u001b[39melse\u001b[39;00m:\n\u001b[0;32m     76\u001b[0m     \u001b[39mwith\u001b[39;00m contextlib\u001b[39m.\u001b[39mclosing(\u001b[39mself\u001b[39m\u001b[39m.\u001b[39mget_file(key)) \u001b[39mas\u001b[39;00m file:\n",
      "File \u001b[1;32mc:\\Users\\georg\\AppData\\Local\\Programs\\Python\\Python311\\Lib\\mailbox.py:779\u001b[0m, in \u001b[0;36m_mboxMMDF.get_message\u001b[1;34m(self, key)\u001b[0m\n\u001b[0;32m    777\u001b[0m \u001b[39mdef\u001b[39;00m \u001b[39mget_message\u001b[39m(\u001b[39mself\u001b[39m, key):\n\u001b[0;32m    778\u001b[0m \u001b[39m    \u001b[39m\u001b[39m\"\"\"Return a Message representation or raise a KeyError.\"\"\"\u001b[39;00m\n\u001b[1;32m--> 779\u001b[0m     start, stop \u001b[39m=\u001b[39m \u001b[39mself\u001b[39;49m\u001b[39m.\u001b[39;49m_lookup(key)\n\u001b[0;32m    780\u001b[0m     \u001b[39mself\u001b[39m\u001b[39m.\u001b[39m_file\u001b[39m.\u001b[39mseek(start)\n\u001b[0;32m    781\u001b[0m     from_line \u001b[39m=\u001b[39m \u001b[39mself\u001b[39m\u001b[39m.\u001b[39m_file\u001b[39m.\u001b[39mreadline()\u001b[39m.\u001b[39mreplace(linesep, \u001b[39mb\u001b[39m\u001b[39m'\u001b[39m\u001b[39m'\u001b[39m)\n",
      "File \u001b[1;32mc:\\Users\\georg\\AppData\\Local\\Programs\\Python\\Python311\\Lib\\mailbox.py:747\u001b[0m, in \u001b[0;36m_singlefileMailbox._lookup\u001b[1;34m(self, key)\u001b[0m\n\u001b[0;32m    745\u001b[0m     \u001b[39mreturn\u001b[39;00m \u001b[39mself\u001b[39m\u001b[39m.\u001b[39m_toc[key]\n\u001b[0;32m    746\u001b[0m \u001b[39mexcept\u001b[39;00m \u001b[39mKeyError\u001b[39;00m:\n\u001b[1;32m--> 747\u001b[0m     \u001b[39mraise\u001b[39;00m \u001b[39mKeyError\u001b[39;00m(\u001b[39m'\u001b[39m\u001b[39mNo message with key: \u001b[39m\u001b[39m%s\u001b[39;00m\u001b[39m'\u001b[39m \u001b[39m%\u001b[39m key) \u001b[39mfrom\u001b[39;00m \u001b[39mNone\u001b[39;00m\n",
      "\u001b[1;31mKeyError\u001b[0m: 'No message with key: 0'"
     ]
    }
   ],
   "source": [
    "mbox[0].keys()"
   ]
  },
  {
   "cell_type": "markdown",
   "metadata": {},
   "source": [
    "The easiest way to get these data into Pandas is to build a CSV file from them. We use the module `csv` to write out the CSV file as we loop over the mailbox object. We save only subject, from, to, and date, and we write a simple header at the top with the names of columns.\n"
   ]
  },
  {
   "cell_type": "code",
   "execution_count": 10,
   "metadata": {},
   "outputs": [],
   "source": [
    "with open('mbox.csv', 'w') as outfile:\n",
    "    writer = csv.writer(outfile)\n",
    "    writer.writerow(['subject', 'from', 'to', 'date'])\n",
    "\n",
    "    for message in mbox:\n",
    "        writer.writerow([message['subject'], message['from'],\n",
    "                        message['to'], message['date']])"
   ]
  },
  {
   "cell_type": "markdown",
   "metadata": {},
   "source": [
    "All done! Thanks to Justin Ellis for inspiration with https://jellis18.github.io/post/2018-01-17-mail-analysis.\n"
   ]
  },
  {
   "cell_type": "markdown",
   "metadata": {},
   "source": [
    "## Moving on!\n"
   ]
  },
  {
   "cell_type": "code",
   "execution_count": 11,
   "metadata": {},
   "outputs": [],
   "source": [
    "messages = pd.read_csv(\"./mbox-anonymized.csv\")"
   ]
  },
  {
   "cell_type": "code",
   "execution_count": 12,
   "metadata": {},
   "outputs": [
    {
     "data": {
      "text/html": [
       "<div>\n",
       "<style scoped>\n",
       "    .dataframe tbody tr th:only-of-type {\n",
       "        vertical-align: middle;\n",
       "    }\n",
       "\n",
       "    .dataframe tbody tr th {\n",
       "        vertical-align: top;\n",
       "    }\n",
       "\n",
       "    .dataframe thead th {\n",
       "        text-align: right;\n",
       "    }\n",
       "</style>\n",
       "<table border=\"1\" class=\"dataframe\">\n",
       "  <thead>\n",
       "    <tr style=\"text-align: right;\">\n",
       "      <th></th>\n",
       "      <th>subject</th>\n",
       "      <th>from</th>\n",
       "      <th>to</th>\n",
       "      <th>date</th>\n",
       "    </tr>\n",
       "  </thead>\n",
       "  <tbody>\n",
       "    <tr>\n",
       "      <th>0</th>\n",
       "      <td>Why control quickly exactly capital.</td>\n",
       "      <td>\"Vallisneri, Michele (335S)\" &lt;Michele.Vallisne...</td>\n",
       "      <td>\"Trevor Charles\" &lt;zrodriguez@hotmail.com&gt;</td>\n",
       "      <td>Mon, 27 Nov 2017 14:18:46 -0800</td>\n",
       "    </tr>\n",
       "    <tr>\n",
       "      <th>1</th>\n",
       "      <td>Work evidence from really threat sign store see.</td>\n",
       "      <td>Michele Vallisneri &lt;Michele.Vallisneri@jpl.nas...</td>\n",
       "      <td>\"Heather Hernandez\" &lt;patriciagarcia@garcia-car...</td>\n",
       "      <td>Mon, 26 Mar 2018 18:38:16 -0700</td>\n",
       "    </tr>\n",
       "    <tr>\n",
       "      <th>2</th>\n",
       "      <td>Lot where answer the law person.</td>\n",
       "      <td>\"Vallisneri, Michele (335S)\" &lt;michele.vallisne...</td>\n",
       "      <td>Bryce Dudley &lt;hailey63@frazier.com&gt;</td>\n",
       "      <td>Tue, 13 Feb 2018 22:54:50 +0000</td>\n",
       "    </tr>\n",
       "    <tr>\n",
       "      <th>3</th>\n",
       "      <td>Difference hotel yard.</td>\n",
       "      <td>\"Vallisneri, Michele (335S)\" &lt;Michele.Vallisne...</td>\n",
       "      <td>Kathryn Mathis &lt;josephrebecca@grimes.com&gt;</td>\n",
       "      <td>Fri, 26 Jan 2018 11:40:04 -0800</td>\n",
       "    </tr>\n",
       "    <tr>\n",
       "      <th>4</th>\n",
       "      <td>Long level mission energy candidate.</td>\n",
       "      <td>\"Vallisneri, Michele (335S)\" &lt;michele.vallisne...</td>\n",
       "      <td>\"Angela Mendoza\" &lt;rkhan@yahoo.com&gt;</td>\n",
       "      <td>Tue, 31 Oct 2017 00:13:00 +0000</td>\n",
       "    </tr>\n",
       "  </tbody>\n",
       "</table>\n",
       "</div>"
      ],
      "text/plain": [
       "                                            subject   \n",
       "0              Why control quickly exactly capital.  \\\n",
       "1  Work evidence from really threat sign store see.   \n",
       "2                  Lot where answer the law person.   \n",
       "3                            Difference hotel yard.   \n",
       "4              Long level mission energy candidate.   \n",
       "\n",
       "                                                from   \n",
       "0  \"Vallisneri, Michele (335S)\" <Michele.Vallisne...  \\\n",
       "1  Michele Vallisneri <Michele.Vallisneri@jpl.nas...   \n",
       "2  \"Vallisneri, Michele (335S)\" <michele.vallisne...   \n",
       "3  \"Vallisneri, Michele (335S)\" <Michele.Vallisne...   \n",
       "4  \"Vallisneri, Michele (335S)\" <michele.vallisne...   \n",
       "\n",
       "                                                  to   \n",
       "0          \"Trevor Charles\" <zrodriguez@hotmail.com>  \\\n",
       "1  \"Heather Hernandez\" <patriciagarcia@garcia-car...   \n",
       "2                Bryce Dudley <hailey63@frazier.com>   \n",
       "3          Kathryn Mathis <josephrebecca@grimes.com>   \n",
       "4                 \"Angela Mendoza\" <rkhan@yahoo.com>   \n",
       "\n",
       "                              date  \n",
       "0  Mon, 27 Nov 2017 14:18:46 -0800  \n",
       "1  Mon, 26 Mar 2018 18:38:16 -0700  \n",
       "2  Tue, 13 Feb 2018 22:54:50 +0000  \n",
       "3  Fri, 26 Jan 2018 11:40:04 -0800  \n",
       "4  Tue, 31 Oct 2017 00:13:00 +0000  "
      ]
     },
     "execution_count": 12,
     "metadata": {},
     "output_type": "execute_result"
    }
   ],
   "source": [
    "messages.head()"
   ]
  },
  {
   "cell_type": "code",
   "execution_count": 15,
   "metadata": {},
   "outputs": [
    {
     "name": "stdout",
     "output_type": "stream",
     "text": [
      "<class 'pandas.core.frame.DataFrame'>\n",
      "RangeIndex: 1030 entries, 0 to 1029\n",
      "Data columns (total 4 columns):\n",
      " #   Column   Non-Null Count  Dtype \n",
      "---  ------   --------------  ----- \n",
      " 0   subject  1030 non-null   object\n",
      " 1   from     1029 non-null   object\n",
      " 2   to       1030 non-null   object\n",
      " 3   date     1030 non-null   object\n",
      "dtypes: object(4)\n",
      "memory usage: 32.3+ KB\n"
     ]
    }
   ],
   "source": [
    "messages.info()"
   ]
  },
  {
   "cell_type": "markdown",
   "metadata": {},
   "source": [
    "using Regex expressions to collect email addresses\n"
   ]
  },
  {
   "cell_type": "code",
   "execution_count": 16,
   "metadata": {},
   "outputs": [
    {
     "data": {
      "text/plain": [
       "<re.Match object; span=(29, 62), match='<Michele.Vallisneri@jpl.nasa.gov>'>"
      ]
     },
     "execution_count": 16,
     "metadata": {},
     "output_type": "execute_result"
    }
   ],
   "source": [
    "re.search(\"<(.+)>\", messages[\"from\"][0])"
   ]
  },
  {
   "cell_type": "code",
   "execution_count": null,
   "metadata": {},
   "outputs": [],
   "source": []
  }
 ],
 "metadata": {
  "kernelspec": {
   "display_name": "Python 3",
   "language": "python",
   "name": "python3"
  },
  "language_info": {
   "codemirror_mode": {
    "name": "ipython",
    "version": 3
   },
   "file_extension": ".py",
   "mimetype": "text/x-python",
   "name": "python",
   "nbconvert_exporter": "python",
   "pygments_lexer": "ipython3",
   "version": "3.11.3"
  },
  "toc": {
   "base_numbering": 1,
   "nav_menu": {},
   "number_sections": true,
   "sideBar": true,
   "skip_h1_title": false,
   "title_cell": "Table of Contents",
   "title_sidebar": "Contents",
   "toc_cell": false,
   "toc_position": {},
   "toc_section_display": true,
   "toc_window_display": false
  }
 },
 "nbformat": 4,
 "nbformat_minor": 2
}
